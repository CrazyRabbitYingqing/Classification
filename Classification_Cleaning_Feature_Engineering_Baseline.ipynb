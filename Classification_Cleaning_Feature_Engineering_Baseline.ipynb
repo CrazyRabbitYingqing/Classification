{
 "cells": [
  {
   "cell_type": "code",
   "execution_count": 46,
   "id": "9af20b9d",
   "metadata": {},
   "outputs": [],
   "source": [
    "from collections import OrderedDict\n",
    "\n",
    "import pandas as pd\n",
    "import numpy as np\n",
    "import seaborn as sns\n",
    "sns.set()\n",
    "\n",
    "from sklearn.linear_model import LogisticRegression\n",
    "from sklearn.model_selection import train_test_split\n",
    "from sklearn.metrics import f1_score"
   ]
  },
  {
   "cell_type": "markdown",
   "id": "f6f1bc7f",
   "metadata": {},
   "source": [
    "### Workflow:\n",
    "\n",
    "1. Problem setup and baselining\n",
    "2. Feature engineering to improve our model\n",
    "3. Preliminary results"
   ]
  },
  {
   "cell_type": "code",
   "execution_count": 47,
   "id": "4706d61a",
   "metadata": {},
   "outputs": [
    {
     "name": "stdout",
     "output_type": "stream",
     "text": [
      "<class 'pandas.core.frame.DataFrame'>\n",
      "RangeIndex: 67463 entries, 0 to 67462\n",
      "Data columns (total 35 columns):\n",
      " #   Column                        Non-Null Count  Dtype  \n",
      "---  ------                        --------------  -----  \n",
      " 0   ID                            67463 non-null  int64  \n",
      " 1   Loan Amount                   67463 non-null  int64  \n",
      " 2   Funded Amount                 67463 non-null  int64  \n",
      " 3   Funded Amount Investor        67463 non-null  float64\n",
      " 4   Term                          67463 non-null  int64  \n",
      " 5   Batch Enrolled                67463 non-null  object \n",
      " 6   Interest Rate                 67463 non-null  float64\n",
      " 7   Grade                         67463 non-null  object \n",
      " 8   Sub Grade                     67463 non-null  object \n",
      " 9   Employment Duration           67463 non-null  object \n",
      " 10  Home Ownership                67463 non-null  float64\n",
      " 11  Verification Status           67463 non-null  object \n",
      " 12  Payment Plan                  67463 non-null  object \n",
      " 13  Loan Title                    67463 non-null  object \n",
      " 14  Debit to Income               67463 non-null  float64\n",
      " 15  Delinquency - two years       67463 non-null  int64  \n",
      " 16  Inquires - six months         67463 non-null  int64  \n",
      " 17  Open Account                  67463 non-null  int64  \n",
      " 18  Public Record                 67463 non-null  int64  \n",
      " 19  Revolving Balance             67463 non-null  int64  \n",
      " 20  Revolving Utilities           67463 non-null  float64\n",
      " 21  Total Accounts                67463 non-null  int64  \n",
      " 22  Initial List Status           67463 non-null  object \n",
      " 23  Total Received Interest       67463 non-null  float64\n",
      " 24  Total Received Late Fee       67463 non-null  float64\n",
      " 25  Recoveries                    67463 non-null  float64\n",
      " 26  Collection Recovery Fee       67463 non-null  float64\n",
      " 27  Collection 12 months Medical  67463 non-null  int64  \n",
      " 28  Application Type              67463 non-null  object \n",
      " 29  Last week Pay                 67463 non-null  int64  \n",
      " 30  Accounts Delinquent           67463 non-null  int64  \n",
      " 31  Total Collection Amount       67463 non-null  int64  \n",
      " 32  Total Current Balance         67463 non-null  int64  \n",
      " 33  Total Revolving Credit Limit  67463 non-null  int64  \n",
      " 34  Loan Status                   67463 non-null  int64  \n",
      "dtypes: float64(9), int64(17), object(9)\n",
      "memory usage: 18.0+ MB\n"
     ]
    }
   ],
   "source": [
    "path = 'data/archive (2)/'\n",
    "df_train = pd.read_csv(path+'train.csv')\n",
    "df_train.info()"
   ]
  },
  {
   "cell_type": "code",
   "execution_count": 48,
   "id": "c0545cc5",
   "metadata": {},
   "outputs": [],
   "source": [
    "#df_test_X = pd.read_csv(path+'test.csv')\n",
    "#df_test_y = pd.read_csv(path+'submission.csv') (not good data set)"
   ]
  },
  {
   "cell_type": "markdown",
   "id": "701b7354",
   "metadata": {},
   "source": [
    "### 1. Check if it is an imbalanced classification task"
   ]
  },
  {
   "cell_type": "code",
   "execution_count": 49,
   "id": "58a70b6f",
   "metadata": {},
   "outputs": [
    {
     "name": "stdout",
     "output_type": "stream",
     "text": [
      "0    0.90749\n",
      "1    0.09251\n",
      "Name: Loan Status, dtype: float64\n"
     ]
    }
   ],
   "source": [
    "target_pcts = df_train['Loan Status'].value_counts(normalize = True)\n",
    "print(target_pcts)"
   ]
  },
  {
   "cell_type": "code",
   "execution_count": 50,
   "id": "59c5675e",
   "metadata": {},
   "outputs": [
    {
     "data": {
      "text/plain": [
       "<AxesSubplot:>"
      ]
     },
     "execution_count": 50,
     "metadata": {},
     "output_type": "execute_result"
    },
    {
     "data": {
      "image/png": "[encoded data removed]",
      "text/plain": [
       "<Figure size 432x288 with 1 Axes>"
      ]
     },
     "metadata": {},
     "output_type": "display_data"
    }
   ],
   "source": [
    "target_pcts.plot(kind = 'bar')"
   ]
  },
  {
   "cell_type": "markdown",
   "id": "9c7bbe20",
   "metadata": {},
   "source": []
  },
  {
   "cell_type": "code",
   "execution_count": 51,
   "id": "5e5ab392",
   "metadata": {},
   "outputs": [],
   "source": [
    "#sns.pairplot(df_train[])"
   ]
  },
  {
   "cell_type": "code",
   "execution_count": 113,
   "id": "b922bc7c",
   "metadata": {},
   "outputs": [],
   "source": [
    "def get_user_split_data(df, test_size=.2, seed=42):\n",
    "\n",
    "    rs = np.random.RandomState(seed)\n",
    "    \n",
    "    total_users = df['ID'].unique() \n",
    "    test_users = rs.choice(total_users, \n",
    "                           size=int(total_users.shape[0] * test_size), \n",
    "                           replace=False)\n",
    "\n",
    "    df_tr = df[~df['ID'].isin(test_users)]\n",
    "    df_te = df[df['ID'].isin(test_users)] \n",
    "\n",
    "    y_tr, y_te = df_tr['Loan Status'], df_te['Loan Status']\n",
    "    X_tr = df_tr.drop(['ID','Loan Status'],axis=1)\n",
    "    X_te = df_te.drop(['ID','Loan Status'],axis=1)\n",
    "\n",
    "    return X_tr, X_te, y_tr, y_te"
   ]
  },
  {
   "cell_type": "code",
   "execution_count": 262,
   "id": "b8652469",
   "metadata": {},
   "outputs": [],
   "source": [
    "\n",
    "The_X = pd.get_dummies(df_train.drop(['Loan Status','Term','Batch Enrolled','Sub Grade','Payment Plan','Collection 12 months Medical','Application Type','Accounts Delinquent'],axis=1),drop_first=True)\n",
    "#The_X = df_train[['ID','Debit to Income','Public Record','Total Accounts','Total Current Balance']]\n",
    "The_X['Loan Status'] = df_train[['Loan Status']]"
   ]
  },
  {
   "cell_type": "code",
   "execution_count": 263,
   "id": "e6b1f71a",
   "metadata": {},
   "outputs": [],
   "source": [
    "X_tr, X_te, y_tr, y_te = get_user_split_data(The_X)"
   ]
  },
  {
   "cell_type": "code",
   "execution_count": 264,
   "id": "789623e8",
   "metadata": {},
   "outputs": [
    {
     "data": {
      "text/html": [
       "<div>\n",
       "<style scoped>\n",
       "    .dataframe tbody tr th:only-of-type {\n",
       "        vertical-align: middle;\n",
       "    }\n",
       "\n",
       "    .dataframe tbody tr th {\n",
       "        vertical-align: top;\n",
       "    }\n",
       "\n",
       "    .dataframe thead th {\n",
       "        text-align: right;\n",
       "    }\n",
       "</style>\n",
       "<table border=\"1\" class=\"dataframe\">\n",
       "  <thead>\n",
       "    <tr style=\"text-align: right;\">\n",
       "      <th></th>\n",
       "      <th>Loan Amount</th>\n",
       "      <th>Funded Amount</th>\n",
       "      <th>Funded Amount Investor</th>\n",
       "      <th>Interest Rate</th>\n",
       "      <th>Home Ownership</th>\n",
       "      <th>Debit to Income</th>\n",
       "      <th>Delinquency - two years</th>\n",
       "      <th>Inquires - six months</th>\n",
       "      <th>Open Account</th>\n",
       "      <th>Public Record</th>\n",
       "      <th>...</th>\n",
       "      <th>Loan Title_get out of debt</th>\n",
       "      <th>Loan Title_home improvement</th>\n",
       "      <th>Loan Title_loan1</th>\n",
       "      <th>Loan Title_pay off bills</th>\n",
       "      <th>Loan Title_payoff</th>\n",
       "      <th>Loan Title_personal</th>\n",
       "      <th>Loan Title_refi</th>\n",
       "      <th>Loan Title_relief</th>\n",
       "      <th>Loan Title_vacation</th>\n",
       "      <th>Initial List Status_w</th>\n",
       "    </tr>\n",
       "  </thead>\n",
       "  <tbody>\n",
       "    <tr>\n",
       "      <th>4</th>\n",
       "      <td>16890</td>\n",
       "      <td>13226</td>\n",
       "      <td>13539.926670</td>\n",
       "      <td>15.008300</td>\n",
       "      <td>44234.82545</td>\n",
       "      <td>17.209886</td>\n",
       "      <td>1</td>\n",
       "      <td>3</td>\n",
       "      <td>13</td>\n",
       "      <td>1</td>\n",
       "      <td>...</td>\n",
       "      <td>0</td>\n",
       "      <td>0</td>\n",
       "      <td>0</td>\n",
       "      <td>0</td>\n",
       "      <td>0</td>\n",
       "      <td>0</td>\n",
       "      <td>0</td>\n",
       "      <td>0</td>\n",
       "      <td>0</td>\n",
       "      <td>1</td>\n",
       "    </tr>\n",
       "    <tr>\n",
       "      <th>6</th>\n",
       "      <td>30844</td>\n",
       "      <td>19773</td>\n",
       "      <td>15777.511830</td>\n",
       "      <td>10.731432</td>\n",
       "      <td>102391.82430</td>\n",
       "      <td>15.083911</td>\n",
       "      <td>0</td>\n",
       "      <td>0</td>\n",
       "      <td>11</td>\n",
       "      <td>0</td>\n",
       "      <td>...</td>\n",
       "      <td>0</td>\n",
       "      <td>0</td>\n",
       "      <td>0</td>\n",
       "      <td>0</td>\n",
       "      <td>0</td>\n",
       "      <td>0</td>\n",
       "      <td>0</td>\n",
       "      <td>0</td>\n",
       "      <td>0</td>\n",
       "      <td>1</td>\n",
       "    </tr>\n",
       "    <tr>\n",
       "      <th>7</th>\n",
       "      <td>20744</td>\n",
       "      <td>10609</td>\n",
       "      <td>7645.014802</td>\n",
       "      <td>13.993688</td>\n",
       "      <td>61723.52014</td>\n",
       "      <td>29.829715</td>\n",
       "      <td>0</td>\n",
       "      <td>0</td>\n",
       "      <td>14</td>\n",
       "      <td>0</td>\n",
       "      <td>...</td>\n",
       "      <td>0</td>\n",
       "      <td>0</td>\n",
       "      <td>0</td>\n",
       "      <td>0</td>\n",
       "      <td>0</td>\n",
       "      <td>0</td>\n",
       "      <td>0</td>\n",
       "      <td>0</td>\n",
       "      <td>0</td>\n",
       "      <td>1</td>\n",
       "    </tr>\n",
       "    <tr>\n",
       "      <th>34</th>\n",
       "      <td>14429</td>\n",
       "      <td>20500</td>\n",
       "      <td>8733.240371</td>\n",
       "      <td>6.337292</td>\n",
       "      <td>47963.58195</td>\n",
       "      <td>33.535387</td>\n",
       "      <td>0</td>\n",
       "      <td>0</td>\n",
       "      <td>12</td>\n",
       "      <td>0</td>\n",
       "      <td>...</td>\n",
       "      <td>0</td>\n",
       "      <td>0</td>\n",
       "      <td>0</td>\n",
       "      <td>0</td>\n",
       "      <td>0</td>\n",
       "      <td>0</td>\n",
       "      <td>0</td>\n",
       "      <td>0</td>\n",
       "      <td>0</td>\n",
       "      <td>0</td>\n",
       "    </tr>\n",
       "    <tr>\n",
       "      <th>35</th>\n",
       "      <td>15257</td>\n",
       "      <td>6911</td>\n",
       "      <td>3801.222520</td>\n",
       "      <td>16.942665</td>\n",
       "      <td>84580.15874</td>\n",
       "      <td>22.141146</td>\n",
       "      <td>0</td>\n",
       "      <td>0</td>\n",
       "      <td>9</td>\n",
       "      <td>0</td>\n",
       "      <td>...</td>\n",
       "      <td>0</td>\n",
       "      <td>0</td>\n",
       "      <td>0</td>\n",
       "      <td>0</td>\n",
       "      <td>0</td>\n",
       "      <td>0</td>\n",
       "      <td>0</td>\n",
       "      <td>0</td>\n",
       "      <td>0</td>\n",
       "      <td>1</td>\n",
       "    </tr>\n",
       "  </tbody>\n",
       "</table>\n",
       "<p>5 rows × 140 columns</p>\n",
       "</div>"
      ],
      "text/plain": [
       "    Loan Amount  Funded Amount  Funded Amount Investor  Interest Rate  \\\n",
       "4         16890          13226            13539.926670      15.008300   \n",
       "6         30844          19773            15777.511830      10.731432   \n",
       "7         20744          10609             7645.014802      13.993688   \n",
       "34        14429          20500             8733.240371       6.337292   \n",
       "35        15257           6911             3801.222520      16.942665   \n",
       "\n",
       "    Home Ownership  Debit to Income  Delinquency - two years  \\\n",
       "4      44234.82545        17.209886                        1   \n",
       "6     102391.82430        15.083911                        0   \n",
       "7      61723.52014        29.829715                        0   \n",
       "34     47963.58195        33.535387                        0   \n",
       "35     84580.15874        22.141146                        0   \n",
       "\n",
       "    Inquires - six months  Open Account  Public Record  ...  \\\n",
       "4                       3            13              1  ...   \n",
       "6                       0            11              0  ...   \n",
       "7                       0            14              0  ...   \n",
       "34                      0            12              0  ...   \n",
       "35                      0             9              0  ...   \n",
       "\n",
       "    Loan Title_get out of debt  Loan Title_home improvement  Loan Title_loan1  \\\n",
       "4                            0                            0                 0   \n",
       "6                            0                            0                 0   \n",
       "7                            0                            0                 0   \n",
       "34                           0                            0                 0   \n",
       "35                           0                            0                 0   \n",
       "\n",
       "    Loan Title_pay off bills  Loan Title_payoff  Loan Title_personal  \\\n",
       "4                          0                  0                    0   \n",
       "6                          0                  0                    0   \n",
       "7                          0                  0                    0   \n",
       "34                         0                  0                    0   \n",
       "35                         0                  0                    0   \n",
       "\n",
       "    Loan Title_refi  Loan Title_relief  Loan Title_vacation  \\\n",
       "4                 0                  0                    0   \n",
       "6                 0                  0                    0   \n",
       "7                 0                  0                    0   \n",
       "34                0                  0                    0   \n",
       "35                0                  0                    0   \n",
       "\n",
       "    Initial List Status_w  \n",
       "4                       1  \n",
       "6                       1  \n",
       "7                       1  \n",
       "34                      0  \n",
       "35                      1  \n",
       "\n",
       "[5 rows x 140 columns]"
      ]
     },
     "execution_count": 264,
     "metadata": {},
     "output_type": "execute_result"
    }
   ],
   "source": [
    "X_te.head()"
   ]
  },
  {
   "cell_type": "markdown",
   "id": "3045a34b",
   "metadata": {},
   "source": [
    "#### Oversampling"
   ]
  },
  {
   "cell_type": "code",
   "execution_count": 265,
   "id": "862d94f5",
   "metadata": {},
   "outputs": [
    {
     "name": "stdout",
     "output_type": "stream",
     "text": [
      "Simple Logistic Regression; Test F1: 0.000, Test AUC: 0.499\n",
      "Logistic Regression on Oversampled Train Data; Test F1: 0.000, Test AUC: 0.497\n"
     ]
    }
   ],
   "source": [
    "import imblearn.over_sampling\n",
    "from sklearn.metrics import f1_score, roc_auc_score\n",
    "# setup for the ratio argument of RandomOverSampler initialization\n",
    "n_pos = np.sum(y_tr == 1)\n",
    "n_neg = np.sum(y_tr == 0)\n",
    "ratio = {1 : n_pos * 4, 0 : n_neg} \n",
    "\n",
    "# randomly oversample positive samples: create 4x as many \n",
    "ROS = imblearn.over_sampling.RandomOverSampler(sampling_strategy = ratio, random_state=42) \n",
    "    \n",
    "X_tr_rs, y_tr_rs = ROS.fit_resample(X_tr, y_tr)\n",
    "\n",
    "lr = LogisticRegression(solver='liblinear') \n",
    "lr.fit(X_tr, y_tr)\n",
    "\n",
    "print('Simple Logistic Regression; Test F1: %.3f, Test AUC: %.3f' % \\\n",
    "      (f1_score(y_te, lr.predict(X_te)), roc_auc_score(y_te, lr.predict_proba(X_te)[:,1]))) \n",
    "\n",
    "lr_os = LogisticRegression(solver='liblinear') \n",
    "lr_os.fit(X_tr_rs, y_tr_rs)\n",
    "\n",
    "print('Logistic Regression on Oversampled Train Data; Test F1: %.3f, Test AUC: %.3f' % \\\n",
    "      (f1_score(y_te, lr_os.predict(X_te)), roc_auc_score(y_te, lr_os.predict_proba(X_te)[:,1])))\n"
   ]
  },
  {
   "cell_type": "markdown",
   "id": "f9a119ef",
   "metadata": {},
   "source": [
    "### Soft prediction"
   ]
  },
  {
   "cell_type": "code",
   "execution_count": 277,
   "id": "8e086bd0",
   "metadata": {},
   "outputs": [
    {
     "name": "stdout",
     "output_type": "stream",
     "text": [
      "Simple Logistic Regression; Test F1: 0.000, Test AUC: 0.499\n",
      "Logistic Regression on Oversampled Train Data; Test F1: 0.104, Test AUC: 0.497\n"
     ]
    }
   ],
   "source": [
    "thres = 0.35\n",
    "y_pred = (lr.predict_proba(X_te)[:,1]>thres)\n",
    "print('Simple Logistic Regression; Test F1: %.3f, Test AUC: %.3f' % \\\n",
    "      (f1_score(y_te, y_pred), roc_auc_score(y_te, lr.predict_proba(X_te)[:,1]))) \n",
    "\n",
    "y_predos = (lr_os.predict_proba(X_te)[:,1]>thres)\n",
    "print('Logistic Regression on Oversampled Train Data; Test F1: %.3f, Test AUC: %.3f' % \\\n",
    "      (f1_score(y_te, y_predos), roc_auc_score(y_te, lr_os.predict_proba(X_te)[:,1])))\n"
   ]
  },
  {
   "cell_type": "markdown",
   "id": "a3df42d3",
   "metadata": {},
   "source": [
    "### Confusion Matrix"
   ]
  },
  {
   "cell_type": "code",
   "execution_count": 278,
   "id": "1245ca3e",
   "metadata": {},
   "outputs": [],
   "source": [
    "def make_confusion_matrix(model, threshold=thres):\n",
    "    # Predict class 1 if probability of being in class 1 is greater than threshold\n",
    "    # (model.predict(X_test) does this automatically with a threshold of 0.5)\n",
    "    y_predict = (model.predict_proba(X_te)[:, 1] >= threshold)\n",
    "    fraud_confusion = confusion_matrix(y_te, y_predict)\n",
    "    plt.figure(dpi=80)\n",
    "    sns.heatmap(fraud_confusion, cmap=plt.cm.Blues, annot=True, square=True, fmt='d',\n",
    "           xticklabels=['Non-defaulter', 'defaulter'],\n",
    "           yticklabels=['Non-defaulter', 'defaulter']);\n",
    "    plt.xlabel('prediction')\n",
    "    plt.ylabel('actual')"
   ]
  },
  {
   "cell_type": "code",
   "execution_count": 279,
   "id": "e378532a",
   "metadata": {},
   "outputs": [
    {
     "data": {
      "image/png": "[encoded data removed]",
      "text/plain": [
       "<Figure size 480x320 with 2 Axes>"
      ]
     },
     "metadata": {},
     "output_type": "display_data"
    }
   ],
   "source": [
    "from sklearn.metrics import confusion_matrix\n",
    "make_confusion_matrix(lr_os)"
   ]
  },
  {
   "cell_type": "code",
   "execution_count": 280,
   "id": "c8e777c4",
   "metadata": {},
   "outputs": [
    {
     "data": {
      "image/png": "[encoded data removed]",
      "text/plain": [
       "<Figure size 480x320 with 2 Axes>"
      ]
     },
     "metadata": {},
     "output_type": "display_data"
    }
   ],
   "source": [
    "make_confusion_matrix(lr)"
   ]
  },
  {
   "cell_type": "code",
   "execution_count": 281,
   "id": "9a8a63d8",
   "metadata": {},
   "outputs": [
    {
     "data": {
      "image/png": "[encoded data removed]",
      "text/plain": [
       "<Figure size 480x320 with 1 Axes>"
      ]
     },
     "metadata": {},
     "output_type": "display_data"
    }
   ],
   "source": [
    "from sklearn.metrics import precision_score, recall_score, precision_recall_curve,f1_score, fbeta_score\n",
    "precision_curve, recall_curve, threshold_curve = precision_recall_curve(y_te, lr_os.predict_proba(X_te)[:,1] )\n",
    "\n",
    "plt.figure(dpi=80)\n",
    "plt.plot(threshold_curve, precision_curve[1:],label='precision')\n",
    "plt.plot(threshold_curve, recall_curve[1:], label='recall')\n",
    "plt.legend(loc='upper right')\n",
    "plt.xlabel('Threshold (above this probability, label as defaulter)');\n",
    "plt.xlim([0,1]);\n",
    "plt.title('Precision and Recall Curves');"
   ]
  },
  {
   "cell_type": "code",
   "execution_count": 282,
   "id": "ffab2bce",
   "metadata": {},
   "outputs": [
    {
     "data": {
      "image/png": "[encoded data removed]",
      "text/plain": [
       "<Figure size 480x320 with 1 Axes>"
      ]
     },
     "metadata": {},
     "output_type": "display_data"
    }
   ],
   "source": [
    "plt.figure(dpi=80)\n",
    "plt.plot(recall_curve[1:], precision_curve[1:],label='precision')\n",
    "plt.xlabel(\"Recall\")\n",
    "plt.ylabel(\"Precision\")\n",
    "plt.title(\"Precision-Recall Curve\");"
   ]
  },
  {
   "cell_type": "code",
   "execution_count": null,
   "id": "4f877cad",
   "metadata": {},
   "outputs": [],
   "source": []
  },
  {
   "cell_type": "markdown",
   "id": "3e9e6dbf",
   "metadata": {},
   "source": [
    "### Plot ROC using Oversampled data"
   ]
  },
  {
   "cell_type": "code",
   "execution_count": 283,
   "id": "b803ebdd",
   "metadata": {},
   "outputs": [
    {
     "name": "stdout",
     "output_type": "stream",
     "text": [
      "ROC AUC score =  0.49689713501218613\n"
     ]
    },
    {
     "data": {
      "image/png": "[encoded data removed]",
      "text/plain": [
       "<Figure size 432x288 with 1 Axes>"
      ]
     },
     "metadata": {},
     "output_type": "display_data"
    }
   ],
   "source": [
    "from sklearn.metrics import roc_auc_score, roc_curve\n",
    "import matplotlib.pyplot as plt\n",
    "fpr, tpr, thresholds = roc_curve(y_te, lr_os.predict_proba(X_te)[:,1])\n",
    "\n",
    "plt.plot(fpr, tpr,lw=2)\n",
    "plt.plot([0,1],[0,1],c='violet',ls='--')\n",
    "plt.xlim([-0.05,1.05])\n",
    "plt.ylim([-0.05,1.05])\n",
    "\n",
    "\n",
    "plt.xlabel('False positive rate')\n",
    "plt.ylabel('True positive rate')\n",
    "plt.title('ROC curve for defaulter problem');\n",
    "print(\"ROC AUC score = \", roc_auc_score(y_te, lr_os.predict_proba(X_te)[:,1]))"
   ]
  },
  {
   "cell_type": "markdown",
   "id": "5818e489",
   "metadata": {},
   "source": [
    "### Plot ROC using not Oversampled data"
   ]
  },
  {
   "cell_type": "code",
   "execution_count": 284,
   "id": "2ae6d784",
   "metadata": {},
   "outputs": [
    {
     "name": "stdout",
     "output_type": "stream",
     "text": [
      "ROC AUC score =  0.4987080035949808\n"
     ]
    },
    {
     "data": {
      "image/png": "[encoded data removed]",
      "text/plain": [
       "<Figure size 432x288 with 1 Axes>"
      ]
     },
     "metadata": {},
     "output_type": "display_data"
    }
   ],
   "source": [
    "fpr, tpr, thresholds = roc_curve(y_te, lr.predict_proba(X_te)[:,1])\n",
    "\n",
    "plt.plot(fpr, tpr,lw=2)\n",
    "plt.plot([0,1],[0,1],c='violet',ls='--')\n",
    "plt.xlim([-0.05,1.05])\n",
    "plt.ylim([-0.05,1.05])\n",
    "\n",
    "\n",
    "plt.xlabel('False positive rate')\n",
    "plt.ylabel('True positive rate')\n",
    "plt.title('ROC curve for defaulter problem');\n",
    "print(\"ROC AUC score = \", roc_auc_score(y_te, lr.predict_proba(X_te)[:,1]))"
   ]
  },
  {
   "cell_type": "code",
   "execution_count": null,
   "id": "7c755627",
   "metadata": {},
   "outputs": [],
   "source": []
  },
  {
   "cell_type": "code",
   "execution_count": null,
   "id": "23afc591",
   "metadata": {},
   "outputs": [],
   "source": []
  },
  {
   "cell_type": "code",
   "execution_count": null,
   "id": "701e528e",
   "metadata": {},
   "outputs": [],
   "source": []
  }
 ],
 "metadata": {
  "kernelspec": {
   "display_name": "Python [conda env:metis] *",
   "language": "python",
   "name": "conda-env-metis-py"
  },
  "language_info": {
   "codemirror_mode": {
    "name": "ipython",
    "version": 3
   },
   "file_extension": ".py",
   "mimetype": "text/x-python",
   "name": "python",
   "nbconvert_exporter": "python",
   "pygments_lexer": "ipython3",
   "version": "3.9.7"
  }
 },
 "nbformat": 4,
 "nbformat_minor": 5
}
